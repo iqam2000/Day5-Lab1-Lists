{
 "cells": [
  {
   "cell_type": "code",
   "execution_count": null,
   "id": "35e59f1d",
   "metadata": {},
   "outputs": [],
   "source": [
    "list = [5, 4, 17, 19, 30, 2, 7, 10, 45]\n",
    "x = 0   \n",
    "for i in list: x += i \n",
    "\n",
    "print(x)"
   ]
  },
  {
   "cell_type": "code",
   "execution_count": 12,
   "id": "053cfe92",
   "metadata": {},
   "outputs": [
    {
     "name": "stdout",
     "output_type": "stream",
     "text": [
      "Largest element is: 45\n"
     ]
    }
   ],
   "source": [
    "\n",
    "print(\"Largest element is:\", max(list))\n"
   ]
  },
  {
   "cell_type": "code",
   "execution_count": 13,
   "id": "3c4a724c",
   "metadata": {},
   "outputs": [
    {
     "name": "stdout",
     "output_type": "stream",
     "text": [
      "[4, 30, 2, 10]\n"
     ]
    }
   ],
   "source": [
    "evenList = [x for x in list if x % 2 == 0]\n",
    "print(evenList)"
   ]
  },
  {
   "cell_type": "code",
   "execution_count": 17,
   "id": "baa270d7",
   "metadata": {},
   "outputs": [
    {
     "name": "stdout",
     "output_type": "stream",
     "text": [
      "[5, 4, 17, 19, 30, 2]\n"
     ]
    }
   ],
   "source": [
    "slicingList = list[0:6]\n",
    "print(slicingList)"
   ]
  },
  {
   "cell_type": "code",
   "execution_count": null,
   "id": "05cc9c5e",
   "metadata": {},
   "outputs": [],
   "source": []
  }
 ],
 "metadata": {
  "kernelspec": {
   "display_name": "Python 3 (ipykernel)",
   "language": "python",
   "name": "python3"
  },
  "language_info": {
   "codemirror_mode": {
    "name": "ipython",
    "version": 3
   },
   "file_extension": ".py",
   "mimetype": "text/x-python",
   "name": "python",
   "nbconvert_exporter": "python",
   "pygments_lexer": "ipython3",
   "version": "3.9.12"
  }
 },
 "nbformat": 4,
 "nbformat_minor": 5
}
